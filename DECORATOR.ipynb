{
  "nbformat": 4,
  "nbformat_minor": 0,
  "metadata": {
    "colab": {
      "provenance": []
    },
    "kernelspec": {
      "name": "python3",
      "display_name": "Python 3"
    },
    "language_info": {
      "name": "python"
    }
  },
  "cells": [
    {
      "cell_type": "markdown",
      "source": [
        "<img src=\"https://i.pinimg.com/originals/ee/2e/24/ee2e246795a13abc1fe01b28776626ef.jpg\" alt= \"LOGO CAT\" width=400 height=400 align = \"right\">\n",
        "\n",
        "<br>\n",
        "<h1><font color=\"#7F000E\" size=5>Playing with Code </font></h1>\n",
        "<h1><font color=\"#7F000R\" size=6> DECORATORS </font></h1>\n",
        "<h1><font color=\"#7F000E\" size=4> Example\n",
        " </font></h1>\n",
        "<br>\n",
        "<br>\n",
        "<div style=\"text-align:right\">\n",
        "<font color=\"#7F000E\" size=3> Ing. Alexander Valdez</font><br>\n",
        "<font color=\"#7F000E\" size=3> 02/05/2024 </font><br>\n",
        "<font color=\"#7F000e\" size=3> Medium Reference  </font><br>\n",
        "</div>"
      ],
      "metadata": {
        "id": "DvstL1_pN_xY"
      }
    },
    {
      "cell_type": "markdown",
      "source": [
        "---\n"
      ],
      "metadata": {
        "id": "PECNG1OqORAN"
      }
    },
    {
      "cell_type": "markdown",
      "source": [
        "Link:\n",
        "\n",
        "https://medium.com/@ayush-thakur02/python-decorators-that-can-reduce-your-code-by-half-b19f673bc7d8"
      ],
      "metadata": {
        "id": "gYxcVcKYOPio"
      }
    },
    {
      "cell_type": "markdown",
      "source": [
        "Python decorators are a powerful feature that allow you to modify the behavior of a function or a class without changing its source code. They are essentially functions that take another function as an argument and return a new function that wraps the original one. This way, you can add some extra functionality or logic to the original function without modifying it.\n",
        "\n",
        "For example, suppose you have a function that prints a message to the console:"
      ],
      "metadata": {
        "id": "J6NEnzkIOXSs"
      }
    },
    {
      "cell_type": "code",
      "source": [
        "def hello():\n",
        "    print(\"Hello, world!\")"
      ],
      "metadata": {
        "id": "B0iFoF2wOOJm"
      },
      "execution_count": 9,
      "outputs": []
    },
    {
      "cell_type": "markdown",
      "source": [
        "Now, suppose you want to **measure** how long it takes to execute this function. You could write another function that uses the time module to calculate the execution time and then calls the original function:"
      ],
      "metadata": {
        "id": "2eleaEjWOisu"
      }
    },
    {
      "cell_type": "code",
      "source": [
        "import time\n",
        "\n",
        "def measure_time(func):\n",
        "    def wrapper():\n",
        "        start = time.time()\n",
        "        func()\n",
        "        end = time.time()\n",
        "        print(f\"Execution time: {end - start} seconds\")\n",
        "    return wrapper"
      ],
      "metadata": {
        "id": "SQUaoNDHOZV1"
      },
      "execution_count": 2,
      "outputs": []
    },
    {
      "cell_type": "markdown",
      "source": [
        "Notice that the measure_time function returns another function called wrapper, which is the modified version of the original function. The wrapper function does two things: it records the start and end time of the execution, and it calls the original function.\n",
        "\n"
      ],
      "metadata": {
        "id": "V3IWyeFEOypb"
      }
    },
    {
      "cell_type": "code",
      "source": [
        "import time\n",
        "def measure_time(func):\n",
        "  def wrapper():\n",
        "    t1= time.time()\n",
        "    func()\n",
        "    t2= time.time()\n",
        "    print(f'Execution time:{t2-t1} seconds')\n",
        "  return wrapper"
      ],
      "metadata": {
        "id": "AMFwVjmZOtgQ"
      },
      "execution_count": 8,
      "outputs": []
    },
    {
      "cell_type": "code",
      "source": [
        "hello = measure_time(hello)\n",
        "hello()"
      ],
      "metadata": {
        "colab": {
          "base_uri": "https://localhost:8080/"
        },
        "id": "4J4coWtPPEAT",
        "outputId": "517ee575-e8ae-4269-ad3b-6a0b4a3b3ad9"
      },
      "execution_count": 10,
      "outputs": [
        {
          "output_type": "stream",
          "name": "stdout",
          "text": [
            "Hello, world!\n",
            "Execution time:5.1021575927734375e-05 seconds\n"
          ]
        }
      ]
    },
    {
      "cell_type": "markdown",
      "source": [
        "As you can see, we have successfully added some extra functionality to the hello function without changing its code. However, there is a more elegant and concise way to do this using decorators. Decorators are simply syntactic sugar that allow you to apply a function to another function using the @ symbol. For example, we could rewrite the previous code like this:"
      ],
      "metadata": {
        "id": "eFOGDFYfPbSH"
      }
    },
    {
      "cell_type": "code",
      "source": [
        "@measure_time\n",
        "def hello():\n",
        "    print(\"Hello, world!\")\n",
        "\n",
        "hello()"
      ],
      "metadata": {
        "colab": {
          "base_uri": "https://localhost:8080/"
        },
        "id": "PAZxiPfkPLCV",
        "outputId": "4950986d-2602-4c17-918a-e4f2bfb95fbc"
      },
      "execution_count": 11,
      "outputs": [
        {
          "output_type": "stream",
          "name": "stdout",
          "text": [
            "Hello, world!\n",
            "Execution time:0.0005133152008056641 seconds\n"
          ]
        }
      ]
    },
    {
      "cell_type": "markdown",
      "source": [
        "Why use Python decorators?"
      ],
      "metadata": {
        "id": "eTVFgQjTPwlO"
      }
    },
    {
      "cell_type": "markdown",
      "source": [
        "* They allow you to reuse code and avoid repetition. For example, if you have many functions that need to measure their execution time, you can simply apply the same decorator to all of them instead of writing the same code over and over again.\n",
        "* They allow you to separate concerns and follow the principle of single responsibility. For example, if you have a function that performs some complex calculation, you can use a decorator to handle the logging, error handling, caching, or validation of the input and output, without cluttering the main logic of the function.\n",
        "* They allow you to extend the functionality of existing functions or classes without modifying their source code. For example, if you are using a third-party library that provides some useful functions or classes, but you want to add some extra features or behavior to them, you can use decorators to wrap them and customize them to your needs."
      ],
      "metadata": {
        "id": "pGAmP3toP7P5"
      }
    },
    {
      "cell_type": "markdown",
      "source": [
        "# Some examples of Python decorators"
      ],
      "metadata": {
        "id": "PR0Z4NDHQOcI"
      }
    },
    {
      "cell_type": "markdown",
      "source": [
        "There are many built-in decorators in Python, such as\n",
        "\n",
        "* @staticmethod,\n",
        "* @classmethod,\n",
        "* @property,\n",
        "* @functools.lru_cache,\n",
        "* @functools.singledispatch, etc.\n",
        "\n",
        "You can also create your own custom decorators for various purposes. Here are some examples of Python decorators that can reduce your code by half:\n",
        "\n"
      ],
      "metadata": {
        "id": "IGEawt7oQQfi"
      }
    },
    {
      "cell_type": "markdown",
      "source": [
        "# **1 The @timer decorator**"
      ],
      "metadata": {
        "id": "lJgXFzT6Q3gy"
      }
    },
    {
      "cell_type": "code",
      "source": [
        "import time\n",
        "from functools import wraps\n",
        "def timer(func):\n",
        "  @wraps(func)\n",
        "  def wrapper(*args,**kwargs):\n",
        "    start  = time.time()\n",
        "    result = func(*args,**kwargs)\n",
        "    end    = time.time()\n",
        "    print(f\"Execution time of {func.__name__}:{end-start} seconds\")\n",
        "    return result\n",
        "  return wrapper\n",
        "\n"
      ],
      "metadata": {
        "id": "LthZ3PEcPxL7"
      },
      "execution_count": 13,
      "outputs": []
    },
    {
      "cell_type": "markdown",
      "source": [
        "Now, you can use this decorator to measure the execution time of any function, such as:"
      ],
      "metadata": {
        "id": "ssDllVCMRj0O"
      }
    },
    {
      "cell_type": "code",
      "source": [
        "@timer\n",
        "def factorial(n):\n",
        "  if n==0 or n ==1:\n",
        "    return 1\n",
        "  else:\n",
        "    return n*factorial(n-1)\n",
        "\n",
        "@timer\n",
        "def fibonacci(n):\n",
        "  if n==0 or n==1:\n",
        "    return n\n",
        "  else:\n",
        "    return fibonacci(n-1)+fibonacci(n-2)"
      ],
      "metadata": {
        "id": "E47l18PjRjRI"
      },
      "execution_count": 16,
      "outputs": []
    },
    {
      "cell_type": "code",
      "source": [
        "print(factorial(10))"
      ],
      "metadata": {
        "colab": {
          "base_uri": "https://localhost:8080/"
        },
        "id": "xArbEgm1SG6o",
        "outputId": "adc4654d-e8e5-4fef-9829-a90209066872"
      },
      "execution_count": 15,
      "outputs": [
        {
          "output_type": "stream",
          "name": "stdout",
          "text": [
            "Execution time of factorial:2.384185791015625e-07 seconds\n",
            "Execution time of factorial:0.0012950897216796875 seconds\n",
            "Execution time of factorial:0.0013234615325927734 seconds\n",
            "Execution time of factorial:0.0013437271118164062 seconds\n",
            "Execution time of factorial:0.0013630390167236328 seconds\n",
            "Execution time of factorial:0.00138092041015625 seconds\n",
            "Execution time of factorial:0.001399993896484375 seconds\n",
            "Execution time of factorial:0.0014281272888183594 seconds\n",
            "Execution time of factorial:0.0014472007751464844 seconds\n",
            "Execution time of factorial:0.001466989517211914 seconds\n",
            "3628800\n"
          ]
        }
      ]
    },
    {
      "cell_type": "code",
      "source": [
        "print(factorial(3))"
      ],
      "metadata": {
        "colab": {
          "base_uri": "https://localhost:8080/"
        },
        "id": "M92cm_FRRtkC",
        "outputId": "dc38ff40-9a2f-4bab-f3b9-05cd0b15b234"
      },
      "execution_count": 17,
      "outputs": [
        {
          "output_type": "stream",
          "name": "stdout",
          "text": [
            "Execution time of factorial:7.152557373046875e-07 seconds\n",
            "Execution time of factorial:0.0006709098815917969 seconds\n",
            "Execution time of factorial:0.0006911754608154297 seconds\n",
            "6\n"
          ]
        }
      ]
    },
    {
      "cell_type": "code",
      "source": [
        "print(fibonacci(10))"
      ],
      "metadata": {
        "colab": {
          "base_uri": "https://localhost:8080/"
        },
        "id": "9FVt0CMES6Xm",
        "outputId": "f50d87e4-676b-4439-a07a-7bfd1798ac3f"
      },
      "execution_count": 18,
      "outputs": [
        {
          "output_type": "stream",
          "name": "stdout",
          "text": [
            "Execution time of fibonacci:9.5367431640625e-07 seconds\n",
            "Execution time of fibonacci:7.152557373046875e-07 seconds\n",
            "Execution time of fibonacci:0.00011730194091796875 seconds\n",
            "Execution time of fibonacci:4.76837158203125e-07 seconds\n",
            "Execution time of fibonacci:0.00015401840209960938 seconds\n",
            "Execution time of fibonacci:4.76837158203125e-07 seconds\n",
            "Execution time of fibonacci:7.152557373046875e-07 seconds\n",
            "Execution time of fibonacci:3.5762786865234375e-05 seconds\n",
            "Execution time of fibonacci:0.0002262592315673828 seconds\n",
            "Execution time of fibonacci:4.76837158203125e-07 seconds\n",
            "Execution time of fibonacci:2.384185791015625e-07 seconds\n",
            "Execution time of fibonacci:4.4345855712890625e-05 seconds\n",
            "Execution time of fibonacci:7.152557373046875e-07 seconds\n",
            "Execution time of fibonacci:8.0108642578125e-05 seconds\n",
            "Execution time of fibonacci:0.0003426074981689453 seconds\n",
            "Execution time of fibonacci:2.384185791015625e-07 seconds\n",
            "Execution time of fibonacci:4.76837158203125e-07 seconds\n",
            "Execution time of fibonacci:3.314018249511719e-05 seconds\n",
            "Execution time of fibonacci:2.384185791015625e-07 seconds\n",
            "Execution time of fibonacci:6.628036499023438e-05 seconds\n",
            "Execution time of fibonacci:7.152557373046875e-07 seconds\n",
            "Execution time of fibonacci:4.76837158203125e-07 seconds\n",
            "Execution time of fibonacci:6.4849853515625e-05 seconds\n",
            "Execution time of fibonacci:0.012559652328491211 seconds\n",
            "Execution time of fibonacci:0.012938737869262695 seconds\n",
            "Execution time of fibonacci:4.76837158203125e-07 seconds\n",
            "Execution time of fibonacci:4.76837158203125e-07 seconds\n",
            "Execution time of fibonacci:5.221366882324219e-05 seconds\n",
            "Execution time of fibonacci:4.76837158203125e-07 seconds\n",
            "Execution time of fibonacci:8.893013000488281e-05 seconds\n",
            "Execution time of fibonacci:4.76837158203125e-07 seconds\n",
            "Execution time of fibonacci:2.384185791015625e-07 seconds\n",
            "Execution time of fibonacci:3.695487976074219e-05 seconds\n",
            "Execution time of fibonacci:0.00016260147094726562 seconds\n",
            "Execution time of fibonacci:4.76837158203125e-07 seconds\n",
            "Execution time of fibonacci:2.384185791015625e-07 seconds\n",
            "Execution time of fibonacci:3.7670135498046875e-05 seconds\n",
            "Execution time of fibonacci:7.152557373046875e-07 seconds\n",
            "Execution time of fibonacci:7.486343383789062e-05 seconds\n",
            "Execution time of fibonacci:0.00027298927307128906 seconds\n",
            "Execution time of fibonacci:0.013255119323730469 seconds\n",
            "Execution time of fibonacci:4.76837158203125e-07 seconds\n",
            "Execution time of fibonacci:4.76837158203125e-07 seconds\n",
            "Execution time of fibonacci:0.0012772083282470703 seconds\n",
            "Execution time of fibonacci:9.5367431640625e-07 seconds\n",
            "Execution time of fibonacci:0.0013277530670166016 seconds\n",
            "Execution time of fibonacci:7.152557373046875e-07 seconds\n",
            "Execution time of fibonacci:4.76837158203125e-07 seconds\n",
            "Execution time of fibonacci:3.5762786865234375e-05 seconds\n",
            "Execution time of fibonacci:0.0013992786407470703 seconds\n",
            "Execution time of fibonacci:4.76837158203125e-07 seconds\n",
            "Execution time of fibonacci:4.76837158203125e-07 seconds\n",
            "Execution time of fibonacci:3.719329833984375e-05 seconds\n",
            "Execution time of fibonacci:4.76837158203125e-07 seconds\n",
            "Execution time of fibonacci:7.200241088867188e-05 seconds\n",
            "Execution time of fibonacci:0.0015056133270263672 seconds\n",
            "Execution time of fibonacci:4.76837158203125e-07 seconds\n",
            "Execution time of fibonacci:7.152557373046875e-07 seconds\n",
            "Execution time of fibonacci:3.528594970703125e-05 seconds\n",
            "Execution time of fibonacci:4.76837158203125e-07 seconds\n",
            "Execution time of fibonacci:6.985664367675781e-05 seconds\n",
            "Execution time of fibonacci:4.76837158203125e-07 seconds\n",
            "Execution time of fibonacci:4.76837158203125e-07 seconds\n",
            "Execution time of fibonacci:3.600120544433594e-05 seconds\n",
            "Execution time of fibonacci:0.00014090538024902344 seconds\n",
            "Execution time of fibonacci:0.001680612564086914 seconds\n",
            "Execution time of fibonacci:0.014971733093261719 seconds\n",
            "Execution time of fibonacci:4.76837158203125e-07 seconds\n",
            "Execution time of fibonacci:4.76837158203125e-07 seconds\n",
            "Execution time of fibonacci:3.719329833984375e-05 seconds\n",
            "Execution time of fibonacci:4.76837158203125e-07 seconds\n",
            "Execution time of fibonacci:7.200241088867188e-05 seconds\n",
            "Execution time of fibonacci:4.76837158203125e-07 seconds\n",
            "Execution time of fibonacci:7.152557373046875e-07 seconds\n",
            "Execution time of fibonacci:3.600120544433594e-05 seconds\n",
            "Execution time of fibonacci:0.00014281272888183594 seconds\n",
            "Execution time of fibonacci:4.76837158203125e-07 seconds\n",
            "Execution time of fibonacci:4.76837158203125e-07 seconds\n",
            "Execution time of fibonacci:3.647804260253906e-05 seconds\n",
            "Execution time of fibonacci:4.76837158203125e-07 seconds\n",
            "Execution time of fibonacci:7.224082946777344e-05 seconds\n",
            "Execution time of fibonacci:0.0002567768096923828 seconds\n",
            "Execution time of fibonacci:4.76837158203125e-07 seconds\n",
            "Execution time of fibonacci:2.384185791015625e-07 seconds\n",
            "Execution time of fibonacci:3.695487976074219e-05 seconds\n",
            "Execution time of fibonacci:4.76837158203125e-07 seconds\n",
            "Execution time of fibonacci:7.200241088867188e-05 seconds\n",
            "Execution time of fibonacci:4.76837158203125e-07 seconds\n",
            "Execution time of fibonacci:4.76837158203125e-07 seconds\n",
            "Execution time of fibonacci:6.151199340820312e-05 seconds\n",
            "Execution time of fibonacci:0.00018453598022460938 seconds\n",
            "Execution time of fibonacci:0.0004763603210449219 seconds\n",
            "Execution time of fibonacci:4.76837158203125e-07 seconds\n",
            "Execution time of fibonacci:4.76837158203125e-07 seconds\n",
            "Execution time of fibonacci:3.600120544433594e-05 seconds\n",
            "Execution time of fibonacci:7.152557373046875e-07 seconds\n",
            "Execution time of fibonacci:7.033348083496094e-05 seconds\n",
            "Execution time of fibonacci:4.76837158203125e-07 seconds\n",
            "Execution time of fibonacci:7.152557373046875e-07 seconds\n",
            "Execution time of fibonacci:3.528594970703125e-05 seconds\n",
            "Execution time of fibonacci:0.0001380443572998047 seconds\n",
            "Execution time of fibonacci:4.76837158203125e-07 seconds\n",
            "Execution time of fibonacci:4.76837158203125e-07 seconds\n",
            "Execution time of fibonacci:3.5762786865234375e-05 seconds\n",
            "Execution time of fibonacci:4.76837158203125e-07 seconds\n",
            "Execution time of fibonacci:6.985664367675781e-05 seconds\n",
            "Execution time of fibonacci:0.00024271011352539062 seconds\n",
            "Execution time of fibonacci:0.0007536411285400391 seconds\n",
            "Execution time of fibonacci:0.01576089859008789 seconds\n",
            "Execution time of fibonacci:4.76837158203125e-07 seconds\n",
            "Execution time of fibonacci:4.76837158203125e-07 seconds\n",
            "Execution time of fibonacci:3.743171691894531e-05 seconds\n",
            "Execution time of fibonacci:4.76837158203125e-07 seconds\n",
            "Execution time of fibonacci:7.295608520507812e-05 seconds\n",
            "Execution time of fibonacci:2.384185791015625e-07 seconds\n",
            "Execution time of fibonacci:4.76837158203125e-07 seconds\n",
            "Execution time of fibonacci:3.910064697265625e-05 seconds\n",
            "Execution time of fibonacci:0.00014734268188476562 seconds\n",
            "Execution time of fibonacci:9.5367431640625e-07 seconds\n",
            "Execution time of fibonacci:4.76837158203125e-07 seconds\n",
            "Execution time of fibonacci:3.7670135498046875e-05 seconds\n",
            "Execution time of fibonacci:4.76837158203125e-07 seconds\n",
            "Execution time of fibonacci:7.414817810058594e-05 seconds\n",
            "Execution time of fibonacci:0.0002567768096923828 seconds\n",
            "Execution time of fibonacci:4.76837158203125e-07 seconds\n",
            "Execution time of fibonacci:4.76837158203125e-07 seconds\n",
            "Execution time of fibonacci:3.6716461181640625e-05 seconds\n",
            "Execution time of fibonacci:7.152557373046875e-07 seconds\n",
            "Execution time of fibonacci:7.390975952148438e-05 seconds\n",
            "Execution time of fibonacci:4.76837158203125e-07 seconds\n",
            "Execution time of fibonacci:7.152557373046875e-07 seconds\n",
            "Execution time of fibonacci:3.790855407714844e-05 seconds\n",
            "Execution time of fibonacci:0.0001480579376220703 seconds\n",
            "Execution time of fibonacci:0.0004394054412841797 seconds\n",
            "Execution time of fibonacci:4.76837158203125e-07 seconds\n",
            "Execution time of fibonacci:2.384185791015625e-07 seconds\n",
            "Execution time of fibonacci:3.814697265625e-05 seconds\n",
            "Execution time of fibonacci:4.76837158203125e-07 seconds\n",
            "Execution time of fibonacci:7.390975952148438e-05 seconds\n",
            "Execution time of fibonacci:2.384185791015625e-07 seconds\n",
            "Execution time of fibonacci:4.76837158203125e-07 seconds\n",
            "Execution time of fibonacci:3.600120544433594e-05 seconds\n",
            "Execution time of fibonacci:0.0001461505889892578 seconds\n",
            "Execution time of fibonacci:4.76837158203125e-07 seconds\n",
            "Execution time of fibonacci:2.384185791015625e-07 seconds\n",
            "Execution time of fibonacci:5.245208740234375e-05 seconds\n",
            "Execution time of fibonacci:4.76837158203125e-07 seconds\n",
            "Execution time of fibonacci:8.916854858398438e-05 seconds\n",
            "Execution time of fibonacci:0.00027751922607421875 seconds\n",
            "Execution time of fibonacci:0.0007524490356445312 seconds\n",
            "Execution time of fibonacci:4.76837158203125e-07 seconds\n",
            "Execution time of fibonacci:7.152557373046875e-07 seconds\n",
            "Execution time of fibonacci:0.0001068115234375 seconds\n",
            "Execution time of fibonacci:2.384185791015625e-07 seconds\n",
            "Execution time of fibonacci:0.00014138221740722656 seconds\n",
            "Execution time of fibonacci:4.76837158203125e-07 seconds\n",
            "Execution time of fibonacci:4.76837158203125e-07 seconds\n",
            "Execution time of fibonacci:3.719329833984375e-05 seconds\n",
            "Execution time of fibonacci:0.00021338462829589844 seconds\n",
            "Execution time of fibonacci:4.76837158203125e-07 seconds\n",
            "Execution time of fibonacci:4.76837158203125e-07 seconds\n",
            "Execution time of fibonacci:3.814697265625e-05 seconds\n",
            "Execution time of fibonacci:7.152557373046875e-07 seconds\n",
            "Execution time of fibonacci:7.534027099609375e-05 seconds\n",
            "Execution time of fibonacci:0.00032329559326171875 seconds\n",
            "Execution time of fibonacci:9.5367431640625e-07 seconds\n",
            "Execution time of fibonacci:4.76837158203125e-07 seconds\n",
            "Execution time of fibonacci:3.886222839355469e-05 seconds\n",
            "Execution time of fibonacci:7.152557373046875e-07 seconds\n",
            "Execution time of fibonacci:7.581710815429688e-05 seconds\n",
            "Execution time of fibonacci:4.76837158203125e-07 seconds\n",
            "Execution time of fibonacci:4.76837158203125e-07 seconds\n",
            "Execution time of fibonacci:3.814697265625e-05 seconds\n",
            "Execution time of fibonacci:0.0001506805419921875 seconds\n",
            "Execution time of fibonacci:0.00051116943359375 seconds\n",
            "Execution time of fibonacci:0.0012993812561035156 seconds\n",
            "Execution time of fibonacci:0.017111778259277344 seconds\n",
            "55\n"
          ]
        }
      ]
    },
    {
      "cell_type": "markdown",
      "source": [
        "# the @debug decorator"
      ],
      "metadata": {
        "id": "4NRU7xhmTZha"
      }
    },
    {
      "cell_type": "code",
      "source": [
        "from functools import wraps\n",
        "def debug(func):\n",
        "  @wraps(func)\n",
        "  def wrapper(*args,**kwargs):\n",
        "    print(f\"Calling {func.__name__} with args: {args} and kwargs {kwargs}\")\n",
        "    result= func(*args,**kwargs)\n",
        "    print(f\"{func.__name__} returned: {result}\")\n",
        "    return result\n",
        "  return wrapper"
      ],
      "metadata": {
        "id": "FyznXSssRiUn"
      },
      "execution_count": 24,
      "outputs": []
    },
    {
      "cell_type": "code",
      "source": [
        "@debug\n",
        "def add(x,y):\n",
        "  return x+y\n",
        "\n",
        "@debug\n",
        "def greet(name, message=\"Hello\"):\n",
        "  return f\"{message},{name}!\"\n",
        "\n",
        "print(add(2,3))\n",
        "print(greet(\"Alice\"))\n",
        "print(greet(\"Bob\",message=\"Hi\"))"
      ],
      "metadata": {
        "colab": {
          "base_uri": "https://localhost:8080/"
        },
        "id": "WsDYDfzxUVlY",
        "outputId": "954c082f-7a35-43d1-cbbe-36097f0bf59d"
      },
      "execution_count": 26,
      "outputs": [
        {
          "output_type": "stream",
          "name": "stdout",
          "text": [
            "Calling add with args: (2, 3) and kwargs {}\n",
            "add returned: 5\n",
            "5\n",
            "Calling greet with args: ('Alice',) and kwargs {}\n",
            "greet returned: Hello,Alice!\n",
            "Hello,Alice!\n",
            "Calling greet with args: ('Bob',) and kwargs {'message': 'Hi'}\n",
            "greet returned: Hi,Bob!\n",
            "Hi,Bob!\n"
          ]
        }
      ]
    },
    {
      "cell_type": "markdown",
      "source": [
        "## **3. The @memoize decorator**"
      ],
      "metadata": {
        "id": "4MVQs-kiVsUU"
      }
    },
    {
      "cell_type": "code",
      "source": [
        "from functools import wraps\n",
        "\n",
        "def memoize(func):\n",
        "    cache = {}\n",
        "    @wraps(func)\n",
        "    def wrapper(*args):\n",
        "        if args in cache:\n",
        "            return cache[args]\n",
        "        else:\n",
        "            result = func(*args)\n",
        "            cache[args] = result\n",
        "            return result\n",
        "    return wrapper"
      ],
      "metadata": {
        "id": "RdwJKeVGVokj"
      },
      "execution_count": 29,
      "outputs": []
    },
    {
      "cell_type": "code",
      "source": [
        "@memoize\n",
        "def factorial(n):\n",
        "    \"\"\"Returns the factorial of n\"\"\"\n",
        "    if n == 0 or n == 1:\n",
        "        return 1\n",
        "    else:\n",
        "        return n * factorial(n - 1)\n",
        "@memoize\n",
        "def fibonacci(n):\n",
        "    \"\"\"Returns the nth Fibonacci number\"\"\"\n",
        "    if n == 0 or n == 1:\n",
        "        return n\n",
        "    else:\n",
        "        return fibonacci(n - 1) + fibonacci(n - 2)\n",
        "print(factorial(10))\n",
        "print(fibonacci(10))"
      ],
      "metadata": {
        "colab": {
          "base_uri": "https://localhost:8080/"
        },
        "id": "3eLLH700VmL4",
        "outputId": "afc93e18-9b7c-4ca6-fcab-6f30b18928ad"
      },
      "execution_count": 30,
      "outputs": [
        {
          "output_type": "stream",
          "name": "stdout",
          "text": [
            "3628800\n",
            "55\n"
          ]
        }
      ]
    },
    {
      "cell_type": "markdown",
      "source": [
        "Conclusion\n",
        "Python decorators are a powerful and elegant way to modify the behavior of functions or classes without changing their source code. They can help you reduce your code by half, improve your code readability, reuse your code, separate your concerns, and extend the functionality of existing code. I hope you enjoyed this blog post and learned something new. If you have any questions or comments, feel free to leave them below. And don’t forget to share this post with your friends and colleagues who might be interested in learning more about Python decorators. Thanks for reading!\n",
        "\n",
        "Coding\n",
        "Python\n",
        "Programming\n",
        "Developer\n"
      ],
      "metadata": {
        "id": "9RdgOG-UVlWf"
      }
    }
  ]
}